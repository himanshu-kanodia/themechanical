{
 "cells": [
  {
   "cell_type": "markdown",
   "metadata": {},
   "source": [
    "## 1. What are the Boolean data type's two values? How do you go about writing them?\n"
   ]
  },
  {
   "cell_type": "markdown",
   "metadata": {},
   "source": [
    "Ans:- Tw0 boolean(bool) types are - True and False.\n",
    "    In python you write it as - True or False."
   ]
  },
  {
   "cell_type": "markdown",
   "metadata": {},
   "source": [
    "## 2. What are the three different types of Boolean operators?"
   ]
  },
  {
   "cell_type": "markdown",
   "metadata": {},
   "source": [
    "1)and\n",
    "2)or\n",
    "3)not"
   ]
  },
  {
   "cell_type": "markdown",
   "metadata": {},
   "source": [
    "## 3. Make a list of each Boolean operator's truth tables (i.e. every possible combination of Boolean values for the operator and what it evaluate )."
   ]
  },
  {
   "cell_type": "markdown",
   "metadata": {},
   "source": [
    "1)and\n",
    "\n",
    "| first | second | result |\n",
    "|:-|:-:|-:|\n",
    "|true|true|true|\n",
    "|true|false|false|\n",
    "|false|true|false|\n",
    "|false|false|false|\n",
    "\n",
    "2)or\n",
    "\n",
    "| first | second | result |\n",
    "|:-|:-:|-:|\n",
    "|true|true|true|\n",
    "|true|false|true|\n",
    "|false|true|true|\n",
    "|false|false|false|\n",
    "\n",
    "3)Not\n",
    "\n",
    "| operand | result |\n",
    "|:-|:-:|\n",
    "|true|false|\n",
    "|false|true|\n"
   ]
  },
  {
   "cell_type": "markdown",
   "metadata": {},
   "source": []
  },
  {
   "cell_type": "markdown",
   "metadata": {},
   "source": [
    "## 4. What are the values of the following expressions?\n",
    "\n",
    "(5 > 4) and (3 == 5)\n",
    "\n",
    "not (5 > 4)\n",
    "\n",
    "(5 > 4) or (3 == 5)\n",
    "\n",
    "not ((5 > 4) or (3 == 5))\n",
    "\n",
    "(True and True) and (True == False)\n",
    "\n",
    "(not False) or (not True)\n"
   ]
  },
  {
   "cell_type": "markdown",
   "metadata": {},
   "source": [
    " ## Ans:-\n",
    "False\n",
    "False\n",
    "True\n",
    "False\n",
    "False\n",
    "True"
   ]
  },
  {
   "cell_type": "markdown",
   "metadata": {},
   "source": [
    "## 5. What are the six different types of reference operators?"
   ]
  },
  {
   "cell_type": "markdown",
   "metadata": {},
   "source": [
    "Operator types in python are:-\n",
    "    \n",
    "1)Arithmetic operators.(= - * / etc)\n",
    "\n",
    "2)Assignment operators.(+= -= etc)\n",
    "\n",
    "3)Comparison operators.(== != >= <= etc)\n",
    "\n",
    "4)Logical operators.(and or not)\n",
    "\n",
    "5)Identity operators.(is is not)\n",
    "\n",
    "6)Membership operators.(in not in)\n",
    "\n",
    "7)Bitwise operators.(| & ~ ^ << >>)"
   ]
  },
  {
   "cell_type": "markdown",
   "metadata": {},
   "source": [
    "## 6. How do you tell the difference between the equal to and assignment operators?"
   ]
  },
  {
   "cell_type": "markdown",
   "metadata": {},
   "source": [
    "## Ans:-\n",
    "equal to operator is ==\n",
    "assignment operatoris ="
   ]
  },
  {
   "cell_type": "markdown",
   "metadata": {},
   "source": [
    "## 7. Describe a condition and when you would use one."
   ]
  },
  {
   "cell_type": "markdown",
   "metadata": {},
   "source": [
    "## Ans:-\n",
    "Condition is checking if certain constraints are met and it is used if there are certain criteria that must be satisfied.\n",
    "e.g.- if(condition)"
   ]
  },
  {
   "cell_type": "markdown",
   "metadata": {},
   "source": [
    "## 8. Recognize the following three blocks in this code:\n",
    "\n",
    "spam = 0\n",
    "\n",
    "if spam == 10:\n",
    "\n",
    "    print('eggs')\n",
    "    \n",
    "    if spam > 5:\n",
    "    \n",
    "        print('bacon')\n",
    "        \n",
    "    else:\n",
    "    \n",
    "        print('ham')\n",
    "        \n",
    "    print('spam')\n",
    "    \n",
    "print('spam')\n",
    "\n"
   ]
  },
  {
   "cell_type": "markdown",
   "metadata": {},
   "source": [
    "## Ans:-\n",
    "spam = 0 #initialization\n",
    "\n",
    "if spam == 10: #conditional check\n",
    "\n",
    "    print('eggs')\n",
    "    \n",
    "    if spam > 5:#conditional check\n",
    "    \n",
    "        print('bacon')\n",
    "        \n",
    "    else:\n",
    "    \n",
    "        print('ham')\n",
    "        \n",
    "    print('spam')\n",
    "    \n",
    "print('spam') # prints anyway\n"
   ]
  },
  {
   "cell_type": "markdown",
   "metadata": {},
   "source": [
    "## 9. Create a programme that prints. If 1 is stored in spam, prints Hello; if 2 is stored in spam, prints Howdy; and if 3 is stored in spam, prints Salutations! if there's something else in spam."
   ]
  },
  {
   "cell_type": "code",
   "execution_count": 17,
   "metadata": {},
   "outputs": [
    {
     "name": "stdout",
     "output_type": "stream",
     "text": [
      "Salutations!\n"
     ]
    }
   ],
   "source": [
    "spam=3\n",
    "if(spam==1):\n",
    "    print(\"Hello\")\n",
    "elif(spam==2):\n",
    "    print(\"Howdy\")\n",
    "elif(spam==3):\n",
    "    print(\"Salutations!\")"
   ]
  },
  {
   "cell_type": "markdown",
   "metadata": {},
   "source": [
    "## 10.If your programme is stuck in an endless loop, what keys can you press?"
   ]
  },
  {
   "cell_type": "markdown",
   "metadata": {},
   "source": [
    "## Ans cntrl+c"
   ]
  },
  {
   "cell_type": "markdown",
   "metadata": {},
   "source": [
    "## 11. How can you tell the difference between break and continue?"
   ]
  },
  {
   "cell_type": "markdown",
   "metadata": {},
   "source": [
    "Break- takes execution out of current loop\n",
    "continue- takes control to the beginning of loop again"
   ]
  },
  {
   "cell_type": "markdown",
   "metadata": {},
   "source": [
    "## 12. In a for loop, what is the difference between range(10), range(0, 10), and range(0, 10, 1)?"
   ]
  },
  {
   "cell_type": "markdown",
   "metadata": {},
   "source": [
    "## Ans:-\n",
    "range(10)- iterator to print number  from 0 to 9, with 1 increment\n",
    "\n",
    "range(0,10)- starts number from 0 to 10, excluding 10\n",
    "\n",
    "range(1,10,1)- starts from 0,to 10 excluding 10, with 1 as increment)"
   ]
  },
  {
   "cell_type": "markdown",
   "metadata": {},
   "source": [
    "##  13. Using a for loop, write a short programme that prints the numbers 1 to 10 Then, using a while loop, create an identical programme that prints the numbers 1 to 10."
   ]
  },
  {
   "cell_type": "markdown",
   "metadata": {},
   "source": []
  },
  {
   "cell_type": "code",
   "execution_count": 5,
   "metadata": {},
   "outputs": [
    {
     "name": "stdout",
     "output_type": "stream",
     "text": [
      "1\n",
      "2\n",
      "3\n",
      "4\n",
      "5\n",
      "6\n",
      "7\n",
      "8\n",
      "9\n",
      "10\n"
     ]
    }
   ],
   "source": [
    "# using for \n",
    "for i in range(1,11):\n",
    "    print(i)"
   ]
  },
  {
   "cell_type": "code",
   "execution_count": 6,
   "metadata": {},
   "outputs": [
    {
     "name": "stdout",
     "output_type": "stream",
     "text": [
      "1\n",
      "2\n",
      "3\n",
      "4\n",
      "5\n",
      "6\n",
      "7\n",
      "8\n",
      "9\n",
      "10\n"
     ]
    }
   ],
   "source": [
    "# using while\n",
    "i=1\n",
    "while(i<11): \n",
    "    print(i)\n",
    "    i=i+1"
   ]
  },
  {
   "cell_type": "markdown",
   "metadata": {},
   "source": [
    "## 14. If you had a bacon() function within a spam module, what would you call it after importing spam?"
   ]
  },
  {
   "cell_type": "markdown",
   "metadata": {},
   "source": [
    "## Ans\n",
    "import spam\n",
    "\n",
    "spam.bacon()"
   ]
  },
  {
   "cell_type": "code",
   "execution_count": null,
   "metadata": {},
   "outputs": [],
   "source": []
  }
 ],
 "metadata": {
  "kernelspec": {
   "display_name": "Python 3",
   "language": "python",
   "name": "python3"
  },
  "language_info": {
   "codemirror_mode": {
    "name": "ipython",
    "version": 3
   },
   "file_extension": ".py",
   "mimetype": "text/x-python",
   "name": "python",
   "nbconvert_exporter": "python",
   "pygments_lexer": "ipython3",
   "version": "3.7.4"
  }
 },
 "nbformat": 4,
 "nbformat_minor": 2
}
